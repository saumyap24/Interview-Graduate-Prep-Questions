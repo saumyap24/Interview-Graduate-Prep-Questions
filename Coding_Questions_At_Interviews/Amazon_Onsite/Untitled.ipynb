{
 "cells": [
  {
   "cell_type": "code",
   "execution_count": null,
   "id": "bd9f1c8d",
   "metadata": {},
   "outputs": [],
   "source": [
    "Question: Design and implement the change return for a vending machine.\n",
    "I would like you to support the change system for a vedning machine. I would like you to define a function that implements\n",
    "\n",
    "for example, our currency system has following types of coins: 25 cents (quarter), 10 cents (dime), 5 cents (nickel)"
   ]
  }
 ],
 "metadata": {
  "kernelspec": {
   "display_name": "Python 3 (ipykernel)",
   "language": "python",
   "name": "python3"
  },
  "language_info": {
   "codemirror_mode": {
    "name": "ipython",
    "version": 3
   },
   "file_extension": ".py",
   "mimetype": "text/x-python",
   "name": "python",
   "nbconvert_exporter": "python",
   "pygments_lexer": "ipython3",
   "version": "3.9.7"
  }
 },
 "nbformat": 4,
 "nbformat_minor": 5
}
