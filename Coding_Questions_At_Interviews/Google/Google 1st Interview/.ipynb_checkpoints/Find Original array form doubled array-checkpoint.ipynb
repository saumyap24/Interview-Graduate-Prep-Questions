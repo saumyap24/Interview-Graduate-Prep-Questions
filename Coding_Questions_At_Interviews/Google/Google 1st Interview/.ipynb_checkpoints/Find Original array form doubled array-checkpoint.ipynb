{
 "cells": [
  {
   "cell_type": "markdown",
   "id": "9a02eaf6",
   "metadata": {},
   "source": [
    "Find the numbers that are twice of the numbers\n",
    "\n",
    "Example 1:\n",
    "\n",
    "List B: [4,3,2,6]\n",
    "\n",
    "Output List A: [2,3]  where double of 2,3 is 4,6 so the list is [2,3,4,6] where the given list is [4,3,2,6] \n",
    "\n",
    "Example 2:\n",
    "B = [2,1,8] \n",
    "output A =[1,4]\n",
    "\n",
    "Leetcode: https://leetcode.com/problems/find-original-array-from-doubled-array/\n"
   ]
  },
  {
   "cell_type": "code",
   "execution_count": 9,
   "id": "bb6e3562",
   "metadata": {},
   "outputs": [
    {
     "data": {
      "text/plain": [
       "[1, 3, 4]"
      ]
     },
     "execution_count": 9,
     "metadata": {},
     "output_type": "execute_result"
    }
   ],
   "source": [
    "from collections import Counter\n",
    "from collections import deque\n",
    "from typing import List\n",
    "\n",
    "\n",
    "class Solution:\n",
    "    def findOriginalArray(self, changed: List[int]) -> List[int]:\n",
    "        changed.sort()\n",
    "        A = []\n",
    "        stack = deque([])\n",
    "        for i in changed:\n",
    "            if stack and stack[0]*2==i:\n",
    "                b=stack.popleft()\n",
    "                A.append(b)\n",
    "            else:\n",
    "                stack.append(i)\n",
    "        return A if not stack else []        \n",
    "        \n",
    "B= [1,3,4,2,6,8]\n",
    "sol = Solution()\n",
    "sol.findOriginalArray(B)\n"
   ]
  },
  {
   "cell_type": "markdown",
   "id": "9b7876e6",
   "metadata": {},
   "source": [
    "Reference : Explaination of deque https://www.geeksforgeeks.org/deque-in-python/"
   ]
  }
 ],
 "metadata": {
  "kernelspec": {
   "display_name": "Python 3 (ipykernel)",
   "language": "python",
   "name": "python3"
  },
  "language_info": {
   "codemirror_mode": {
    "name": "ipython",
    "version": 3
   },
   "file_extension": ".py",
   "mimetype": "text/x-python",
   "name": "python",
   "nbconvert_exporter": "python",
   "pygments_lexer": "ipython3",
   "version": "3.9.7"
  }
 },
 "nbformat": 4,
 "nbformat_minor": 5
}
