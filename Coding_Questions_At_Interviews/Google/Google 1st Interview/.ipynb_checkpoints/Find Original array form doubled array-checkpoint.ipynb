{
 "cells": [
  {
   "cell_type": "markdown",
   "id": "9a02eaf6",
   "metadata": {},
   "source": [
    "Find the numbers that are twice of the numbers\n",
    "\n",
    "Example 1:\n",
    "\n",
    "List B: [4,3,2,6]\n",
    "\n",
    "Output List A: [2,3]  where double of 2,3 is 4,6 so the list is [2,3,4,6] where the given list is [4,3,2,6] \n",
    "\n",
    "Example 2:\n",
    "B = [2,1,8] \n",
    "output A =[1,4]\n",
    "\n",
    "Leetcode: https://leetcode.com/problems/find-original-array-from-doubled-array/"
   ]
  },
  {
   "cell_type": "code",
   "execution_count": 3,
   "id": "bb6e3562",
   "metadata": {},
   "outputs": [
    {
     "ename": "SyntaxError",
     "evalue": "invalid syntax (Temp/ipykernel_3524/479762417.py, line 4)",
     "output_type": "error",
     "traceback": [
      "\u001b[1;36m  File \u001b[1;32m\"C:\\Users\\18324\\AppData\\Local\\Temp/ipykernel_3524/479762417.py\"\u001b[1;36m, line \u001b[1;32m4\u001b[0m\n\u001b[1;33m    dictionary.update({i: if B[i] == B[i+1]*2})\u001b[0m\n\u001b[1;37m                          ^\u001b[0m\n\u001b[1;31mSyntaxError\u001b[0m\u001b[1;31m:\u001b[0m invalid syntax\n"
     ]
    }
   ],
   "source": [
    "B= [4,3,2,6]\n",
    "sort(B)\n",
    "dictionary={}\n",
    "for i in range(len(B)):\n",
    "    if (B[i]*2) in dictionary:\n",
    "        dictionary[i].append(B[i])\n",
    "        \n",
    "        \n",
    "#     dictionary.update({i: if B[i] == B[i+1]*2})\n",
    "\n",
    "print(dictionary)\n",
    "# print({key: value for (key, value) in B if value/2})"
   ]
  },
  {
   "cell_type": "code",
   "execution_count": null,
   "id": "8ba5aa07",
   "metadata": {},
   "outputs": [],
   "source": []
  }
 ],
 "metadata": {
  "kernelspec": {
   "display_name": "Python 3 (ipykernel)",
   "language": "python",
   "name": "python3"
  },
  "language_info": {
   "codemirror_mode": {
    "name": "ipython",
    "version": 3
   },
   "file_extension": ".py",
   "mimetype": "text/x-python",
   "name": "python",
   "nbconvert_exporter": "python",
   "pygments_lexer": "ipython3",
   "version": "3.9.7"
  }
 },
 "nbformat": 4,
 "nbformat_minor": 5
}
