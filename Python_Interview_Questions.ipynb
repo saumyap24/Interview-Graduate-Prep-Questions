{
 "cells": [
  {
   "cell_type": "markdown",
   "id": "3cb71ac6",
   "metadata": {},
   "source": [
    "### 1. What is Python DocString?"
   ]
  },
  {
   "cell_type": "markdown",
   "id": "00c88311",
   "metadata": {},
   "source": [
    "The docstring can be accessed using \n",
    "\n",
    "__doc__ method of the object\n",
    "\n",
    "help function"
   ]
  },
  {
   "cell_type": "code",
   "execution_count": 8,
   "id": "abfbada0",
   "metadata": {},
   "outputs": [
    {
     "name": "stdout",
     "output_type": "stream",
     "text": [
      "using _doc_ method: Implementing docstring.\n",
      "Help on function HelloWorld in module __main__:\n",
      "\n",
      "HelloWorld()\n",
      "    Implementing docstring.\n",
      "\n",
      "Using help function: None\n"
     ]
    }
   ],
   "source": [
    "def HelloWorld():\n",
    "    \"Implementing docstring.\"\n",
    "    return None\n",
    "\n",
    "#printing using __doc__ method\n",
    "print(\"using _doc_ method:\",HelloWorld.__doc__)\n",
    "\n",
    "#print using help function\n",
    "print(\"Using help function:\",help(HelloWorld))"
   ]
  },
  {
   "cell_type": "markdown",
   "id": "76cfc57c",
   "metadata": {},
   "source": [
    "### 2. Difference between generator and an iterator in Python"
   ]
  },
  {
   "cell_type": "markdown",
   "id": "2fd681b0",
   "metadata": {},
   "source": [
    "Genrator function retruns a genrator object that is iterable\n",
    "\n",
    "Generator function whenever it generates a value it does with \"yield\" keyword instead of return\n",
    "\n",
    "If the body contains the \"yield\" keyword then it automatically becomes generator function\n",
    "\n",
    "1. Implemented using a function\n",
    "2. Uses Yield Keyword\n",
    "3. all the local variables before yield are stored"
   ]
  },
  {
   "cell_type": "code",
   "execution_count": 13,
   "id": "dffafddd",
   "metadata": {},
   "outputs": [
    {
     "name": "stdout",
     "output_type": "stream",
     "text": [
      "<generator object fib at 0x0000016485CAC6D0>\n",
      "0\n",
      "1\n",
      "1\n",
      "2\n",
      "using for loop: \n",
      "0\n",
      "1\n",
      "1\n",
      "2\n",
      "3\n"
     ]
    }
   ],
   "source": [
    "#function to generate fibonacci numbers\n",
    "def fib(limit):\n",
    "    a,b = 0,1\n",
    "    while a<limit:\n",
    "        #The yield statement is what makes a function generator function\n",
    "        yield a\n",
    "        a,b = b,a+b\n",
    "x = fib(5)\n",
    "print(x)\n",
    "print(next(x))\n",
    "print(next(x))\n",
    "print(next(x))\n",
    "print(next(x))\n",
    "\n",
    "print(\"using for loop: \")\n",
    "for i in fib(5):\n",
    "    print(i)"
   ]
  },
  {
   "cell_type": "code",
   "execution_count": null,
   "id": "7cd23cfd",
   "metadata": {},
   "outputs": [],
   "source": [
    "An iterator is an object which contains number of values and it is used to iterate over iterable objects like list, tuples,\n",
    "sets, etc.\n",
    "\n",
    "\n",
    "1. Iterators are implemented using class\n",
    "2. No lcoal variables are required her\n",
    "\n"
   ]
  }
 ],
 "metadata": {
  "kernelspec": {
   "display_name": "Python 3 (ipykernel)",
   "language": "python",
   "name": "python3"
  },
  "language_info": {
   "codemirror_mode": {
    "name": "ipython",
    "version": 3
   },
   "file_extension": ".py",
   "mimetype": "text/x-python",
   "name": "python",
   "nbconvert_exporter": "python",
   "pygments_lexer": "ipython3",
   "version": "3.9.7"
  }
 },
 "nbformat": 4,
 "nbformat_minor": 5
}
